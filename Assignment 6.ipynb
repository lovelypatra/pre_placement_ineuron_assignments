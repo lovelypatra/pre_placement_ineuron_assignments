{
 "cells": [
  {
   "cell_type": "markdown",
   "id": "88e5520e",
   "metadata": {},
   "source": [
    "\n",
    "<aside>\n",
    "💡 **Question 1**\n",
    "\n",
    "A permutation perm of n + 1 integers of all the integers in the range [0, n] can be represented as a string s of length n where:\n",
    "\n",
    "- s[i] == 'I' if perm[i] < perm[i + 1], and\n",
    "- s[i] == 'D' if perm[i] > perm[i + 1].\n",
    "\n",
    "Given a string s, reconstruct the permutation perm and return it. If there are multiple valid permutations perm, return **any of them**.\n",
    "\n",
    "**Example 1:**\n",
    "\n",
    "**Input:** s = \"IDID\"\n",
    "\n",
    "**Output:**\n",
    "\n",
    "[0,4,1,3,2]\n",
    "\n",
    "</aside>"
   ]
  },
  {
   "cell_type": "code",
   "execution_count": 3,
   "id": "83d904f1",
   "metadata": {},
   "outputs": [
    {
     "name": "stdout",
     "output_type": "stream",
     "text": [
      "[0, 4, 1, 3, 2]\n"
     ]
    }
   ],
   "source": [
    "def reconstruct_permutation(s):\n",
    "    perm = []\n",
    "    n = len(s)\n",
    "    low = 0\n",
    "    high = n\n",
    "\n",
    "    for ch in s:\n",
    "        if ch == 'I':\n",
    "            perm.append(low)\n",
    "            low += 1\n",
    "        elif ch == 'D':\n",
    "            perm.append(high)\n",
    "            high -= 1\n",
    "\n",
    "    perm.append(low)\n",
    "\n",
    "    return perm\n",
    "\n",
    "s = \"IDID\"\n",
    "reconstructed_perm = reconstruct_permutation(s)\n",
    "print(reconstructed_perm)"
   ]
  },
  {
   "cell_type": "markdown",
   "id": "ea3b62d0",
   "metadata": {},
   "source": [
    "<aside>\n",
    "💡 **Question 2**\n",
    "\n",
    "You are given an m x n integer matrix matrix with the following two properties:\n",
    "\n",
    "- Each row is sorted in non-decreasing order.\n",
    "- The first integer of each row is greater than the last integer of the previous row.\n",
    "\n",
    "Given an integer target, return true *if* target *is in* matrix *or* false *otherwise*.\n",
    "\n",
    "You must write a solution in O(log(m * n)) time complexity.\n",
    "\n",
    "**Input:** matrix = [[1,3,5,7],[10,11,16,20],[23,30,34,60]], target = 3\n",
    "\n",
    "**Output:** true\n",
    "</aside>"
   ]
  },
  {
   "cell_type": "code",
   "execution_count": 4,
   "id": "3872538b",
   "metadata": {},
   "outputs": [
    {
     "data": {
      "text/plain": [
       "True"
      ]
     },
     "execution_count": 4,
     "metadata": {},
     "output_type": "execute_result"
    }
   ],
   "source": [
    "def searchMatrix(matrix, target):\n",
    "    if not matrix or not matrix[0]:\n",
    "        return False\n",
    "\n",
    "    m, n = len(matrix), len(matrix[0])\n",
    "    left, right = 0, m * n - 1\n",
    "\n",
    "    while left <= right:\n",
    "        mid = left + (right - left) // 2\n",
    "        row = mid // n\n",
    "        col = mid % n\n",
    "        if matrix[row][col] == target:\n",
    "            return True\n",
    "        elif matrix[row][col] < target:\n",
    "            left = mid + 1\n",
    "        else:\n",
    "            right = mid - 1\n",
    "\n",
    "    return False\n",
    "matrix = [[1,3,5,7],[10,11,16,20],[23,30,34,60]]\n",
    "target = 3\n",
    "searchMatrix(matrix, target)"
   ]
  },
  {
   "cell_type": "markdown",
   "id": "394b157c",
   "metadata": {},
   "source": [
    "<aside>\n",
    "💡 **Question 3**\n",
    "\n",
    "Given an array of integers arr, return *true if and only if it is a valid mountain array*.\n",
    "\n",
    "Recall that arr is a mountain array if and only if:\n",
    "\n",
    "- arr.length >= 3\n",
    "- There exists some i with 0 < i < arr.length - 1 such that:\n",
    "    - arr[0] < arr[1] < ... < arr[i - 1] < arr[i]\n",
    "    - arr[i] > arr[i + 1] > ... > arr[arr.length - 1]\n",
    "**Example 1:**\n",
    "\n",
    "**Input:** arr = [2,1]\n",
    "\n",
    "**Output:**\n",
    "\n",
    "false\n",
    "</aside>"
   ]
  },
  {
   "cell_type": "code",
   "execution_count": 5,
   "id": "2ace6c4d",
   "metadata": {},
   "outputs": [
    {
     "name": "stdout",
     "output_type": "stream",
     "text": [
      "True\n",
      "False\n",
      "False\n"
     ]
    }
   ],
   "source": [
    "def valid_mountain_array(arr):\n",
    "    if len(arr) < 3:\n",
    "        return False\n",
    "\n",
    "    i = 0\n",
    "\n",
    "    # Check increasing sequence\n",
    "    while i < len(arr) - 1 and arr[i] < arr[i + 1]:\n",
    "        i += 1\n",
    "\n",
    "    # Peak cannot be the first or last element\n",
    "    if i == 0 or i == len(arr) - 1:\n",
    "        return False\n",
    "\n",
    "    # Check decreasing sequence\n",
    "    while i < len(arr) - 1 and arr[i] > arr[i + 1]:\n",
    "        i += 1\n",
    "\n",
    "    return i == len(arr) - 1\n",
    "\n",
    "\n",
    "arr = [2, 3, 4, 5, 2, 1]\n",
    "print(valid_mountain_array(arr))  \n",
    "\n",
    "arr = [1, 2, 3, 4, 5]\n",
    "print(valid_mountain_array(arr))  \n",
    "\n",
    "arr = [5, 4, 3, 2, 1]\n",
    "print(valid_mountain_array(arr)) "
   ]
  },
  {
   "cell_type": "markdown",
   "id": "ab4258cf",
   "metadata": {},
   "source": [
    "<aside>\n",
    "💡 **Question 4**\n",
    "\n",
    "Given a binary array nums, return *the maximum length of a contiguous subarray with an equal number of* 0 *and* 1.\n",
    "\n",
    "**Example 1:**\n",
    "\n",
    "**Input:** nums = [0,1]\n",
    "\n",
    "**Output:** 2\n",
    "\n",
    "**Explanation:**\n",
    "\n",
    "[0, 1] is the longest contiguous subarray with an equal number of 0 and 1.\n",
    "\n",
    "</aside>"
   ]
  },
  {
   "cell_type": "code",
   "execution_count": 6,
   "id": "06795646",
   "metadata": {},
   "outputs": [
    {
     "name": "stdout",
     "output_type": "stream",
     "text": [
      "2\n",
      "2\n",
      "6\n"
     ]
    }
   ],
   "source": [
    "def find_max_length(nums):\n",
    "    count = 0  # Variable to keep track of the running sum\n",
    "    max_length = 0  # Variable to store the maximum length\n",
    "\n",
    "    # Create a dictionary to store the running sum and its corresponding index\n",
    "    sum_dict = {0: -1}\n",
    "\n",
    "    for i in range(len(nums)):\n",
    "        # Increment the count by 1 for 1, and decrement by 1 for 0\n",
    "        count += 1 if nums[i] == 1 else -1\n",
    "\n",
    "        if count in sum_dict:\n",
    "            # If the running sum already exists in the dictionary,\n",
    "            # update the maximum length if the current length is greater\n",
    "            max_length = max(max_length, i - sum_dict[count])\n",
    "        else:\n",
    "            # If the running sum is encountered for the first time,\n",
    "            # add it to the dictionary with its index as the value\n",
    "            sum_dict[count] = i\n",
    "\n",
    "    return max_length\n",
    "\n",
    "\n",
    "nums = [0, 1]\n",
    "print(find_max_length(nums)) \n",
    "nums = [0, 1, 0]\n",
    "print(find_max_length(nums)) \n",
    "\n",
    "nums = [1, 1, 0, 1, 0, 0, 1]\n",
    "print(find_max_length(nums))  "
   ]
  },
  {
   "cell_type": "markdown",
   "id": "6ac852bb",
   "metadata": {},
   "source": [
    "<aside>\n",
    "💡 **Question 5**\n",
    "\n",
    "The **product sum** of two equal-length arrays a and b is equal to the sum of a[i] * b[i] for all 0 <= i < a.length (**0-indexed**).\n",
    "\n",
    "- For example, if a = [1,2,3,4] and b = [5,2,3,1], the **product sum** would be 1*5 + 2*2 + 3*3 + 4*1 = 22.\n",
    "\n",
    "Given two arrays nums1 and nums2 of length n, return *the **minimum product sum** if you are allowed to **rearrange** the **order** of the elements in* nums1.\n",
    "\n",
    "**Example 1:**\n",
    "\n",
    "**Input:** nums1 = [5,3,4,2], nums2 = [4,2,2,5]\n",
    "\n",
    "**Output:** 40\n",
    "\n",
    "**Explanation:**\n",
    "\n",
    "We can rearrange nums1 to become [3,5,4,2]. The product sum of [3,5,4,2] and [4,2,2,5] is 3*4 + 5*2 + 4*2 + 2*5 = 40.\n",
    "\n",
    "</aside>"
   ]
  },
  {
   "cell_type": "code",
   "execution_count": 7,
   "id": "6dfa5ea3",
   "metadata": {},
   "outputs": [
    {
     "name": "stdout",
     "output_type": "stream",
     "text": [
      "40\n",
      "21\n"
     ]
    }
   ],
   "source": [
    "def min_product_sum(nums1, nums2):\n",
    "    nums1.sort()  # Sort nums1 in ascending order\n",
    "    nums2.sort(reverse=True)  # Sort nums2 in descending order\n",
    "\n",
    "    product_sum = 0\n",
    "    for i in range(len(nums1)):\n",
    "        product_sum += nums1[i] * nums2[i]\n",
    "\n",
    "    return product_sum\n",
    "\n",
    "\n",
    "nums1 = [5, 3, 4, 2]\n",
    "nums2 = [4, 2, 2, 5]\n",
    "print(min_product_sum(nums1, nums2))  \n",
    "\n",
    "nums1 = [1, 2, 3, 4]\n",
    "nums2 = [5, 2, 3, 1]\n",
    "print(min_product_sum(nums1, nums2))  "
   ]
  },
  {
   "cell_type": "markdown",
   "id": "d42457cc",
   "metadata": {},
   "source": [
    "<aside>\n",
    "💡 **Question 6**\n",
    "\n",
    "An integer array original is transformed into a **doubled** array changed by appending **twice the value** of every element in original, and then randomly **shuffling** the resulting array.\n",
    "\n",
    "Given an array changed, return original *if* changed *is a **doubled** array. If* changed *is not a **doubled** array, return an empty array. The elements in* original *may be returned in **any** order*.\n",
    "\n",
    "**Example 1:**\n",
    "\n",
    "**Input:** changed = [1,3,4,2,6,8]\n",
    "\n",
    "**Output:** [1,3,4]\n",
    "\n",
    "**Explanation:** One possible original array could be [1,3,4]:\n",
    "\n",
    "- Twice the value of 1 is 1 * 2 = 2.\n",
    "- Twice the value of 3 is 3 * 2 = 6.\n",
    "- Twice the value of 4 is 4 * 2 = 8.\n",
    "\n",
    "Other original arrays could be [4,3,1] or [3,1,4].\n",
    "\n",
    "</aside>"
   ]
  },
  {
   "cell_type": "code",
   "execution_count": 8,
   "id": "909b07a0",
   "metadata": {},
   "outputs": [
    {
     "name": "stdout",
     "output_type": "stream",
     "text": [
      "[1, 3, 4]\n",
      "[1, 4, 4]\n",
      "[]\n"
     ]
    }
   ],
   "source": [
    "def find_original_array(changed):\n",
    "    if len(changed) % 2 != 0:\n",
    "        return []  # Invalid input, the length is not even\n",
    "\n",
    "    changed_count = {}  # Dictionary to store the count of each element in changed\n",
    "    original = []  # List to store the original array\n",
    "\n",
    "    # Count the occurrences of each element in changed\n",
    "    for num in changed:\n",
    "        changed_count[num] = changed_count.get(num, 0) + 1\n",
    "\n",
    "    # Iterate over the elements in changed\n",
    "    for num in sorted(changed):\n",
    "        if changed_count[num] == 0:\n",
    "            continue  # Skip if the element is already used\n",
    "\n",
    "        if changed_count.get(num * 2, 0) == 0:\n",
    "            return []  # Invalid input, no corresponding doubled element\n",
    "\n",
    "        original.append(num)  # Append the original element to the result\n",
    "        changed_count[num] -= 1  # Reduce the count of original element\n",
    "        changed_count[num * 2] -= 1  # Reduce the count of doubled element\n",
    "\n",
    "    return original\n",
    "\n",
    "\n",
    "changed = [1, 3, 4, 2, 6, 8]\n",
    "print(find_original_array(changed))  \n",
    "\n",
    "changed = [1, 2, 4, 4, 8, 8]\n",
    "print(find_original_array(changed))  \n",
    "\n",
    "changed = [1, 2, 4, 8, 8]\n",
    "print(find_original_array(changed)) "
   ]
  },
  {
   "cell_type": "markdown",
   "id": "b0fcc210",
   "metadata": {},
   "source": [
    "<aside>\n",
    "💡 **Question 7**\n",
    "\n",
    "Given a positive integer n, generate an n x n matrix filled with elements from 1 to n2 in spiral order.\n",
    "\n",
    "**Example 1:**\n",
    "\n",
    "**Input:** n = 3\n",
    "\n",
    "**Output:** [[1,2,3],[8,9,4],[7,6,5]]\n",
    "</aside>"
   ]
  },
  {
   "cell_type": "code",
   "execution_count": 9,
   "id": "0496b58b",
   "metadata": {},
   "outputs": [
    {
     "name": "stdout",
     "output_type": "stream",
     "text": [
      "[1, 2, 3]\n",
      "[8, 9, 4]\n",
      "[7, 6, 5]\n"
     ]
    }
   ],
   "source": [
    "def generate_spiral_matrix(n):\n",
    "    matrix = [[0] * n for _ in range(n)]  # Initialize matrix with zeros\n",
    "\n",
    "    num = 1  # Current number to be filled in the matrix\n",
    "    top, bottom, left, right = 0, n - 1, 0, n - 1\n",
    "\n",
    "    while top <= bottom and left <= right:\n",
    "        # Fill the top row\n",
    "        for i in range(left, right + 1):\n",
    "            matrix[top][i] = num\n",
    "            num += 1\n",
    "        top += 1\n",
    "\n",
    "        # Fill the right column\n",
    "        for i in range(top, bottom + 1):\n",
    "            matrix[i][right] = num\n",
    "            num += 1\n",
    "        right -= 1\n",
    "\n",
    "        # Fill the bottom row\n",
    "        if top <= bottom:\n",
    "            for i in range(right, left - 1, -1):\n",
    "                matrix[bottom][i] = num\n",
    "                num += 1\n",
    "            bottom -= 1\n",
    "\n",
    "        # Fill the left column\n",
    "        if left <= right:\n",
    "            for i in range(bottom, top - 1, -1):\n",
    "                matrix[i][left] = num\n",
    "                num += 1\n",
    "            left += 1\n",
    "\n",
    "    return matrix\n",
    "\n",
    "\n",
    "n = 3\n",
    "spiral_matrix = generate_spiral_matrix(n)\n",
    "for row in spiral_matrix:\n",
    "    print(row)\n"
   ]
  },
  {
   "cell_type": "markdown",
   "id": "efb63b2a",
   "metadata": {},
   "source": [
    "<aside>\n",
    "💡 **Question 8**\n",
    "\n",
    "Given two [sparse matrices](https://en.wikipedia.org/wiki/Sparse_matrix) mat1 of size m x k and mat2 of size k x n, return the result of mat1 x mat2. You may assume that multiplication is always possible.\n",
    "\n",
    "**Example 1:**\n",
    "\n",
    "**Input:** mat1 = [[1,0,0],[-1,0,3]], mat2 = [[7,0,0],[0,0,0],[0,0,1]]\n",
    "\n",
    "**Output:**\n",
    "\n",
    "[[7,0,0],[-7,0,3]]\n",
    "</aside>"
   ]
  },
  {
   "cell_type": "code",
   "execution_count": 10,
   "id": "93ccce10",
   "metadata": {},
   "outputs": [
    {
     "name": "stdout",
     "output_type": "stream",
     "text": [
      "[7, 0, 0]\n",
      "[-7, 0, 3]\n"
     ]
    }
   ],
   "source": [
    "def multiply_sparse_matrices(mat1, mat2):\n",
    "    m, k = len(mat1), len(mat1[0])  # Dimensions of mat1\n",
    "    n = len(mat2[0])  # Number of columns in mat2\n",
    "\n",
    "    result = [[0] * n for _ in range(m)]  # Initialize the result matrix\n",
    "\n",
    "    # Create a transpose of mat2 for efficient column-wise access\n",
    "    mat2_transpose = [[mat2[j][i] for j in range(k)] for i in range(n)]\n",
    "\n",
    "    for i in range(m):\n",
    "        for j in range(n):\n",
    "            dot_product = 0  # Accumulator for the dot product\n",
    "\n",
    "            for p in range(k):\n",
    "                if mat1[i][p] != 0 and mat2_transpose[j][p] != 0:\n",
    "                    dot_product += mat1[i][p] * mat2_transpose[j][p]\n",
    "\n",
    "            result[i][j] = dot_product\n",
    "\n",
    "    return result\n",
    "\n",
    "\n",
    "mat1 = [[1, 0, 0], [-1, 0, 3]]\n",
    "mat2 = [[7, 0, 0], [0, 0, 0], [0, 0, 1]]\n",
    "result = multiply_sparse_matrices(mat1, mat2)\n",
    "for row in result:\n",
    "    print(row)\n"
   ]
  },
  {
   "cell_type": "code",
   "execution_count": null,
   "id": "b053b67c",
   "metadata": {},
   "outputs": [],
   "source": []
  }
 ],
 "metadata": {
  "kernelspec": {
   "display_name": "Python 3 (ipykernel)",
   "language": "python",
   "name": "python3"
  },
  "language_info": {
   "codemirror_mode": {
    "name": "ipython",
    "version": 3
   },
   "file_extension": ".py",
   "mimetype": "text/x-python",
   "name": "python",
   "nbconvert_exporter": "python",
   "pygments_lexer": "ipython3",
   "version": "3.9.12"
  }
 },
 "nbformat": 4,
 "nbformat_minor": 5
}
