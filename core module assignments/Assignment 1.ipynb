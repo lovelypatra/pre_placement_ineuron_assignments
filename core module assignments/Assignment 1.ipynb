{
 "cells": [
  {
   "cell_type": "code",
   "execution_count": 1,
   "id": "ade9602c",
   "metadata": {},
   "outputs": [
    {
     "name": "stdout",
     "output_type": "stream",
     "text": [
      "Enter a string: Lovely\n",
      "Reversed string: ylevoL\n"
     ]
    }
   ],
   "source": [
    "#1. Write a Python program to reverse a string without using any built-in string reversal functions.\n",
    "\n",
    "def reverse_string(string):\n",
    "    reversed_string = \"\"\n",
    "    for char in string:\n",
    "        reversed_string = char + reversed_string\n",
    "    return reversed_string\n",
    "\n",
    "input_string = input(\"Enter a string: \")\n",
    "reversed_string = reverse_string(input_string)\n",
    "print(\"Reversed string:\", reversed_string)"
   ]
  },
  {
   "cell_type": "code",
   "execution_count": 5,
   "id": "7ee1baaa",
   "metadata": {},
   "outputs": [
    {
     "name": "stdout",
     "output_type": "stream",
     "text": [
      "Enter a string: teeet\n",
      "The string is a palindrome.\n"
     ]
    }
   ],
   "source": [
    "# 2. Implement a function to check if a given string is a palindrome.\n",
    "\n",
    "def is_palindrome(string):\n",
    "    # Convert the string to lowercase and remove any non-alphanumeric characters\n",
    "    cleaned_string = ''.join(char.lower() for char in string if char.isalnum())\n",
    "    \n",
    "    # Compare the cleaned string with its reverse\n",
    "    reversed_string = cleaned_string[::-1]\n",
    "    return cleaned_string == reversed_string\n",
    "\n",
    "input_string = input(\"Enter a string: \")\n",
    "if is_palindrome(input_string):\n",
    "    print(\"The string is a palindrome.\")\n",
    "else:\n",
    "    print(\"The string is not a palindrome.\")"
   ]
  },
  {
   "cell_type": "code",
   "execution_count": 6,
   "id": "9bc14669",
   "metadata": {},
   "outputs": [
    {
     "name": "stdout",
     "output_type": "stream",
     "text": [
      "Enter a list of numbers (space-separated): 1 2 3 4 5\n",
      "The largest element is: 5\n"
     ]
    }
   ],
   "source": [
    "# 3. Write a program to find the largest element in a given list.\n",
    "\n",
    "def find_largest_element(lst):\n",
    "    if not lst:\n",
    "        return None\n",
    "\n",
    "    largest = lst[0]\n",
    "    for element in lst:\n",
    "        if element > largest:\n",
    "            largest = element\n",
    "\n",
    "    return largest\n",
    "\n",
    "\n",
    "input_list = input(\"Enter a list of numbers (space-separated): \").split()\n",
    "input_list = [int(num) for num in input_list]\n",
    "\n",
    "largest_element = find_largest_element(input_list)\n",
    "if largest_element is not None:\n",
    "    print(\"The largest element is:\", largest_element)\n",
    "else:\n",
    "    print(\"The list is empty.\")"
   ]
  },
  {
   "cell_type": "code",
   "execution_count": 7,
   "id": "26da81e3",
   "metadata": {},
   "outputs": [
    {
     "name": "stdout",
     "output_type": "stream",
     "text": [
      "Enter a list of elements (space-separated): 1 3 7 2 5 6\n",
      "Element occurrences:\n",
      "1: 1\n",
      "3: 1\n",
      "7: 1\n",
      "2: 1\n",
      "5: 1\n",
      "6: 1\n"
     ]
    }
   ],
   "source": [
    "#4. Implement a function to count the occurrence of each element in a list\n",
    "\n",
    "def count_occurrences(lst):\n",
    "    occurrences = {}\n",
    "    for element in lst:\n",
    "        if element in occurrences:\n",
    "            occurrences[element] += 1\n",
    "        else:\n",
    "            occurrences[element] = 1\n",
    "    return occurrences\n",
    "\n",
    "# Test the function\n",
    "input_list = input(\"Enter a list of elements (space-separated): \").split()\n",
    "\n",
    "occurrences = count_occurrences(input_list)\n",
    "print(\"Element occurrences:\")\n",
    "for element, count in occurrences.items():\n",
    "    print(f\"{element}: {count}\")"
   ]
  },
  {
   "cell_type": "code",
   "execution_count": 8,
   "id": "981bf655",
   "metadata": {},
   "outputs": [
    {
     "name": "stdout",
     "output_type": "stream",
     "text": [
      "Enter a list of numbers (space-separated): 3 3 4 5 6 3 7 89\n",
      "The second largest number is: 7\n"
     ]
    }
   ],
   "source": [
    "# 5. Write a Python program to find the second largest number in a list.\n",
    "\n",
    "def find_second_largest(lst):\n",
    "    if len(lst) < 2:\n",
    "        return None\n",
    "\n",
    "    largest = max(lst[0], lst[1])\n",
    "    second_largest = min(lst[0], lst[1])\n",
    "\n",
    "    for i in range(2, len(lst)):\n",
    "        if lst[i] > largest:\n",
    "            second_largest = largest\n",
    "            largest = lst[i]\n",
    "        elif lst[i] > second_largest and lst[i] != largest:\n",
    "            second_largest = lst[i]\n",
    "\n",
    "    return second_largest\n",
    "\n",
    "\n",
    "input_list = input(\"Enter a list of numbers (space-separated): \").split()\n",
    "input_list = [int(num) for num in input_list]\n",
    "\n",
    "second_largest = find_second_largest(input_list)\n",
    "if second_largest is not None:\n",
    "    print(\"The second largest number is:\", second_largest)\n",
    "else:\n",
    "    print(\"The list contains fewer than two numbers.\")"
   ]
  },
  {
   "cell_type": "code",
   "execution_count": 9,
   "id": "041c8089",
   "metadata": {},
   "outputs": [
    {
     "name": "stdout",
     "output_type": "stream",
     "text": [
      "Enter a list of elements (space-separated): 2 4 6 7 5 2 98 9 4 6 7\n",
      "List with duplicates removed: ['2', '4', '6', '7', '5', '98', '9']\n"
     ]
    }
   ],
   "source": [
    "# 6. Implement a function to remove duplicate elements from a list.\n",
    "\n",
    "def remove_duplicates(lst):\n",
    "    seen = set()\n",
    "    result = []\n",
    "    for element in lst:\n",
    "        if element not in seen:\n",
    "            seen.add(element)\n",
    "            result.append(element)\n",
    "    return result\n",
    "\n",
    "\n",
    "input_list = input(\"Enter a list of elements (space-separated): \").split()\n",
    "\n",
    "unique_elements = remove_duplicates(input_list)\n",
    "print(\"List with duplicates removed:\", unique_elements)"
   ]
  },
  {
   "cell_type": "code",
   "execution_count": 10,
   "id": "e395d3df",
   "metadata": {},
   "outputs": [
    {
     "name": "stdout",
     "output_type": "stream",
     "text": [
      "Enter a non-negative integer: 234\n",
      "Factorial of 234 is: 22670150051024339208842996793945853659618105149432332891909162781453188496185286163298606516694886905607365190190959563064612945338703694136857684356961467817193275159683377314353662443780840896397239708288581036699483832395636246310971241224996315914676173236435465798388095261168098119711919219177465172417531870533071210963890951079600651352649259865692984172459046697905169775036847325733034393600000000000000000000000000000000000000000000000000000000\n"
     ]
    }
   ],
   "source": [
    "# 7. Write a program to calculate the factorial of a given number.\n",
    "\n",
    "def factorial(n):\n",
    "    if n < 0:\n",
    "        return None\n",
    "    elif n == 0:\n",
    "        return 1\n",
    "    else:\n",
    "        result = 1\n",
    "        for i in range(1, n + 1):\n",
    "            result *= i\n",
    "        return result\n",
    "\n",
    "# Test the function\n",
    "input_number = int(input(\"Enter a non-negative integer: \"))\n",
    "\n",
    "factorial_result = factorial(input_number)\n",
    "if factorial_result is not None:\n",
    "    print(\"Factorial of\", input_number, \"is:\", factorial_result)\n",
    "else:\n",
    "    print(\"Invalid input. Please enter a non-negative integer.\")"
   ]
  },
  {
   "cell_type": "code",
   "execution_count": 11,
   "id": "014dbe01",
   "metadata": {},
   "outputs": [
    {
     "name": "stdout",
     "output_type": "stream",
     "text": [
      "Enter a positive integer: 789\n",
      "789 is not a prime number.\n"
     ]
    }
   ],
   "source": [
    "# 8. Implement a function to check if a given number is prime.\n",
    "\n",
    "def is_prime(number):\n",
    "    if number < 2:\n",
    "        return False\n",
    "\n",
    "    for i in range(2, int(number ** 0.5) + 1):\n",
    "        if number % i == 0:\n",
    "            return False\n",
    "\n",
    "    return True\n",
    "\n",
    "# Test the function\n",
    "input_number = int(input(\"Enter a positive integer: \"))\n",
    "\n",
    "if is_prime(input_number):\n",
    "    print(input_number, \"is a prime number.\")\n",
    "else:\n",
    "    print(input_number, \"is not a prime number.\")"
   ]
  },
  {
   "cell_type": "code",
   "execution_count": null,
   "id": "d71731e2",
   "metadata": {},
   "outputs": [],
   "source": []
  }
 ],
 "metadata": {
  "kernelspec": {
   "display_name": "Python 3 (ipykernel)",
   "language": "python",
   "name": "python3"
  },
  "language_info": {
   "codemirror_mode": {
    "name": "ipython",
    "version": 3
   },
   "file_extension": ".py",
   "mimetype": "text/x-python",
   "name": "python",
   "nbconvert_exporter": "python",
   "pygments_lexer": "ipython3",
   "version": "3.9.12"
  }
 },
 "nbformat": 4,
 "nbformat_minor": 5
}
